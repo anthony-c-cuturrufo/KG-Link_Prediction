{
 "cells": [
  {
   "cell_type": "markdown",
   "id": "incident-invitation",
   "metadata": {},
   "source": [
    "# Welcome to the demo notebook to run link prediction on your dataset\n",
    "## Setup\n",
    "  Create environment with ```environment_py36_trec1.yml```\\\n",
    "  Note: Upgrade DGL to newest version\\\n",
    "  Create folder ```notebooks/train```\n",
    "  "
   ]
  },
  {
   "cell_type": "markdown",
   "id": "liked-harvard",
   "metadata": {},
   "source": [
    "## Prepare data for link prediction\n",
    "See ```!python lib/format_transformer.py -h``` for help."
   ]
  },
  {
   "cell_type": "code",
   "execution_count": 2,
   "id": "extra-syracuse",
   "metadata": {},
   "outputs": [
    {
     "name": "stdout",
     "output_type": "stream",
     "text": [
      "running main..\n",
      "Namespace(create_dict=1, data_path='data/v1_res/relation', dataset='NBTEST', exclude_files=['DGres.csv', 'DiGres.csv'], sample_ratio=0.05, train_ratio=0.9, valid_relations='', validation_ratio=0.05)\n",
      "VAL_RELATIONS:  <class 'str'>\n",
      "creating nodes and relation vocabulary\n",
      "finished creating nodes and relation vocabulary\n",
      "partitioning dataset\n",
      "finished\n"
     ]
    }
   ],
   "source": [
    "!python lib/format_transformer.py --dataset NBTEST --exclude-files DGres.csv DiGres.csv"
   ]
  },
  {
   "cell_type": "markdown",
   "id": "reflected-constant",
   "metadata": {},
   "source": [
    "## Run Link Prediction \n",
    "Note if you encounter error ```ValueError: Feature size must be a multiplier of num_bases (<number_of_bases>).```\\\n",
    "try changing the ```--n-hidden ``` to a value that is a multiplier of ```<number_of_bases>```."
   ]
  },
  {
   "cell_type": "code",
   "execution_count": 4,
   "id": "moved-bradley",
   "metadata": {},
   "outputs": [
    {
     "name": "stdout",
     "output_type": "stream",
     "text": [
      "Using backend: pytorch\n",
      "Namespace(dataset='NBTEST', dropout=0.2, edge_sampler='uniform', eval_batch_size=500, eval_protocol='filtered', evaluate_every=500, gpu=-1, grad_norm=1.0, graph_batch_size=30000, graph_split_size=0.5, lr=0.01, n_bases=100, n_epochs=6000, n_hidden=160, n_layers=2, negative_sample=10, regularization=0.01)\n",
      "Test graph:\n",
      "/Users/anthonycuturrufo/Documents/Research/Wang_Lab/Repo/KG_Link_Prediction/KG-Link_Prediction/utils.py:127: RuntimeWarning: divide by zero encountered in true_divide\n",
      "  norm = 1.0 / in_deg\n",
      "# nodes: 26990, # edges: 284634\n",
      "start training...\n",
      "# sampled nodes: 15546\n",
      "# sampled edges: 30000\n",
      "# nodes: 15546, # edges: 30000\n",
      "Done edge sampling\n",
      "Epoch 0001 | Loss 2.6254 | Best MRR 0.0000 | Forward 0.4183s | Backward 0.8858s\n",
      "# sampled nodes: 15484\n",
      "# sampled edges: 30000\n",
      "# nodes: 15484, # edges: 30000\n",
      "Done edge sampling\n",
      "Epoch 0002 | Loss 2.6965 | Best MRR 0.0000 | Forward 0.3697s | Backward 0.8590s\n",
      "# sampled nodes: 15540\n",
      "# sampled edges: 30000\n",
      "# nodes: 15540, # edges: 30000\n",
      "Done edge sampling\n",
      "Epoch 0003 | Loss 1.2942 | Best MRR 0.0000 | Forward 0.3569s | Backward 0.8459s\n",
      "# sampled nodes: 15646\n",
      "# sampled edges: 30000\n",
      "# nodes: 15646, # edges: 30000\n",
      "Done edge sampling\n",
      "Epoch 0004 | Loss 9.7999 | Best MRR 0.0000 | Forward 0.3775s | Backward 0.8556s\n",
      "# sampled nodes: 15437\n",
      "# sampled edges: 30000\n",
      "# nodes: 15437, # edges: 30000\n",
      "Done edge sampling\n",
      "Epoch 0005 | Loss 8.5701 | Best MRR 0.0000 | Forward 0.3589s | Backward 0.8551s\n",
      "# sampled nodes: 15544\n",
      "# sampled edges: 30000\n",
      "# nodes: 15544, # edges: 30000\n",
      "Done edge sampling\n",
      "Epoch 0006 | Loss 2.3457 | Best MRR 0.0000 | Forward 0.3638s | Backward 0.8611s\n",
      "# sampled nodes: 15505\n",
      "# sampled edges: 30000\n",
      "# nodes: 15505, # edges: 30000\n",
      "Done edge sampling\n",
      "Epoch 0007 | Loss 0.8904 | Best MRR 0.0000 | Forward 0.3653s | Backward 0.8584s\n",
      "# sampled nodes: 15575\n",
      "# sampled edges: 30000\n",
      "# nodes: 15575, # edges: 30000\n",
      "Done edge sampling\n",
      "Epoch 0008 | Loss 0.9246 | Best MRR 0.0000 | Forward 0.3720s | Backward 0.8958s\n",
      "# sampled nodes: 15452\n",
      "# sampled edges: 30000\n",
      "# nodes: 15452, # edges: 30000\n",
      "Done edge sampling\n",
      "^C\n",
      "Traceback (most recent call last):\n",
      "  File \"link_predict.py\", line 271, in <module>\n",
      "    main(args)\n",
      "  File \"link_predict.py\", line 180, in main\n",
      "    loss = model.get_loss(g, embed, data, labels)\n",
      "  File \"link_predict.py\", line 80, in get_loss\n",
      "    score = self.calc_score(embed, triplets)\n",
      "  File \"link_predict.py\", line 68, in calc_score\n",
      "    score = torch.sum(s * r * o, dim=1)\n",
      "KeyboardInterrupt\n"
     ]
    }
   ],
   "source": [
    "!python link_predict.py -d NBTEST --n-hidden 160"
   ]
  }
 ],
 "metadata": {
  "kernelspec": {
   "display_name": "Python 3",
   "language": "python",
   "name": "python3"
  },
  "language_info": {
   "codemirror_mode": {
    "name": "ipython",
    "version": 3
   },
   "file_extension": ".py",
   "mimetype": "text/x-python",
   "name": "python",
   "nbconvert_exporter": "python",
   "pygments_lexer": "ipython3",
   "version": "3.8.5"
  }
 },
 "nbformat": 4,
 "nbformat_minor": 5
}
