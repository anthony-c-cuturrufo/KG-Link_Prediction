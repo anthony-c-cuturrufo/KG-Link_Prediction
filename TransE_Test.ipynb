{
 "cells": [
  {
   "cell_type": "code",
   "execution_count": 17,
   "id": "sapphire-premiere",
   "metadata": {},
   "outputs": [],
   "source": [
    "drkg_file = './data/v1_res/relation/DDires.csv'"
   ]
  },
  {
   "cell_type": "code",
   "execution_count": 23,
   "id": "several-search",
   "metadata": {},
   "outputs": [],
   "source": [
    "import pandas as pd\n",
    "import numpy as np\n",
    "\n",
    "df = pd.read_csv(drkg_file)\n",
    "df = df.filter(['Drug', 'Palliates_Hetionet','Disease'], axis = 1)\n",
    "triples = df.values.tolist()"
   ]
  },
  {
   "cell_type": "code",
   "execution_count": 24,
   "id": "mounted-thirty",
   "metadata": {},
   "outputs": [
    {
     "data": {
      "text/html": [
       "<div>\n",
       "<style scoped>\n",
       "    .dataframe tbody tr th:only-of-type {\n",
       "        vertical-align: middle;\n",
       "    }\n",
       "\n",
       "    .dataframe tbody tr th {\n",
       "        vertical-align: top;\n",
       "    }\n",
       "\n",
       "    .dataframe thead th {\n",
       "        text-align: right;\n",
       "    }\n",
       "</style>\n",
       "<table border=\"1\" class=\"dataframe\">\n",
       "  <thead>\n",
       "    <tr style=\"text-align: right;\">\n",
       "      <th></th>\n",
       "      <th>Drug</th>\n",
       "      <th>Palliates_Hetionet</th>\n",
       "      <th>Disease</th>\n",
       "    </tr>\n",
       "  </thead>\n",
       "  <tbody>\n",
       "    <tr>\n",
       "      <th>0</th>\n",
       "      <td>DrugBank:DB00997</td>\n",
       "      <td>0</td>\n",
       "      <td>DOID:363</td>\n",
       "    </tr>\n",
       "    <tr>\n",
       "      <th>1</th>\n",
       "      <td>DrugBank:DB00206</td>\n",
       "      <td>0</td>\n",
       "      <td>DOID:10763</td>\n",
       "    </tr>\n",
       "    <tr>\n",
       "      <th>2</th>\n",
       "      <td>DrugBank:DB00960</td>\n",
       "      <td>0</td>\n",
       "      <td>DOID:10763</td>\n",
       "    </tr>\n",
       "    <tr>\n",
       "      <th>3</th>\n",
       "      <td>DrugBank:DB00665</td>\n",
       "      <td>0</td>\n",
       "      <td>DOID:10283</td>\n",
       "    </tr>\n",
       "    <tr>\n",
       "      <th>4</th>\n",
       "      <td>DrugBank:DB00290</td>\n",
       "      <td>0</td>\n",
       "      <td>DOID:2998</td>\n",
       "    </tr>\n",
       "  </tbody>\n",
       "</table>\n",
       "</div>"
      ],
      "text/plain": [
       "               Drug  Palliates_Hetionet     Disease\n",
       "0  DrugBank:DB00997                   0    DOID:363\n",
       "1  DrugBank:DB00206                   0  DOID:10763\n",
       "2  DrugBank:DB00960                   0  DOID:10763\n",
       "3  DrugBank:DB00665                   0  DOID:10283\n",
       "4  DrugBank:DB00290                   0   DOID:2998"
      ]
     },
     "execution_count": 24,
     "metadata": {},
     "output_type": "execute_result"
    }
   ],
   "source": [
    "df.head()"
   ]
  },
  {
   "cell_type": "code",
   "execution_count": 25,
   "id": "spoken-failure",
   "metadata": {},
   "outputs": [
    {
     "data": {
      "text/plain": [
       "2684037"
      ]
     },
     "execution_count": 25,
     "metadata": {},
     "output_type": "execute_result"
    }
   ],
   "source": [
    "num_triples = len(triples)\n",
    "num_triples"
   ]
  },
  {
   "cell_type": "code",
   "execution_count": 26,
   "id": "fundamental-strap",
   "metadata": {},
   "outputs": [],
   "source": [
    "seed = np.arange(num_triples)\n",
    "np.random.shuffle(seed)\n",
    "\n",
    "train_cnt = int(num_triples * 0.9)\n",
    "valid_cnt = int(num_triples * 0.05)\n",
    "train_set = seed[:train_cnt]\n",
    "train_set = train_set.tolist()\n",
    "valid_set = seed[train_cnt:train_cnt+valid_cnt].tolist()\n",
    "test_set = seed[train_cnt+valid_cnt:].tolist()"
   ]
  },
  {
   "cell_type": "code",
   "execution_count": 27,
   "id": "jewish-overall",
   "metadata": {},
   "outputs": [],
   "source": [
    "with open(\"train/drkg_train.tsv\", 'w+') as f:\n",
    "    for idx in train_set:\n",
    "        f.writelines(\"{}\\t{}\\t{}\\n\".format(triples[idx][0], triples[idx][1], triples[idx][2]))\n",
    "        \n",
    "with open(\"train/drkg_valid.tsv\", 'w+') as f:\n",
    "    for idx in valid_set:\n",
    "        f.writelines(\"{}\\t{}\\t{}\\n\".format(triples[idx][0], triples[idx][1], triples[idx][2]))\n",
    "\n",
    "with open(\"train/drkg_test.tsv\", 'w+') as f:\n",
    "    for idx in test_set:\n",
    "        f.writelines(\"{}\\t{}\\t{}\\n\".format(triples[idx][0], triples[idx][1], triples[idx][2]))"
   ]
  },
  {
   "cell_type": "code",
   "execution_count": 28,
   "id": "revised-wealth",
   "metadata": {},
   "outputs": [
    {
     "name": "stdout",
     "output_type": "stream",
     "text": [
      "Using backend: pytorch\n",
      "Reading train triples....\n",
      "Finished. Read 2415633 train triples.\n",
      "Reading valid triples....\n",
      "Finished. Read 134201 valid triples.\n",
      "Reading test triples....\n",
      "Finished. Read 134203 test triples.\n",
      "|Train|: 2415633\n",
      "random partition 2415633 edges into 8 parts\n",
      "part 0 has 301955 edges\n",
      "part 1 has 301955 edges\n",
      "part 2 has 301955 edges\n",
      "part 3 has 301955 edges\n",
      "part 4 has 301955 edges\n",
      "part 5 has 301955 edges\n",
      "part 6 has 301955 edges\n",
      "part 7 has 301948 edges\n",
      "/home/ubuntu/anthony/KG_LinkPrediction_Project/my_project_env/lib/python3.8/site-packages/dgl/base.py:45: DGLWarning: Recommend creating graphs by `dgl.graph(data)` instead of `dgl.DGLGraph(data)`.\n",
      "  return warnings.warn(message, category=category, stacklevel=1)\n",
      "/home/ubuntu/anthony/KG_LinkPrediction_Project/my_project_env/lib/python3.8/site-packages/dgl/base.py:45: DGLWarning: Keyword arguments ['readonly', 'multigraph', 'sort_csr'] are deprecated in v0.5, and can be safely removed in all cases.\n",
      "  return warnings.warn(message, category=category, stacklevel=1)\n",
      "Traceback (most recent call last):\n",
      "  File \"/home/ubuntu/anthony/KG_LinkPrediction_Project/my_project_env/bin/dglke_train\", line 8, in <module>\n",
      "    sys.exit(main())\n",
      "  File \"/home/ubuntu/anthony/KG_LinkPrediction_Project/my_project_env/lib/python3.8/site-packages/dglke/train.py\", line 118, in main\n",
      "    train_sampler_head = train_data.create_sampler(args.batch_size,\n",
      "  File \"/home/ubuntu/anthony/KG_LinkPrediction_Project/my_project_env/lib/python3.8/site-packages/dglke/dataloader/sampler.py\", line 379, in create_sampler\n",
      "    return EdgeSampler(self.g,\n",
      "  File \"/home/ubuntu/anthony/KG_LinkPrediction_Project/my_project_env/lib/python3.8/site-packages/dgl/contrib/sampling/sampler.py\", line 683, in __init__\n",
      "    self._sampler = _CAPI_CreateUniformEdgeSampler(\n",
      "  File \"dgl/_ffi/_cython/./function.pxi\", line 287, in dgl._ffi._cy3.core.FunctionBase.__call__\n",
      "  File \"dgl/_ffi/_cython/./function.pxi\", line 232, in dgl._ffi._cy3.core.FuncCall\n",
      "  File \"dgl/_ffi/_cython/./base.pxi\", line 155, in dgl._ffi._cy3.core.CALL\n",
      "dgl._ffi.base.DGLError: [18:50:23] /opt/dgl/include/dgl/packed_func_ext.h:117: Check failed: ObjectTypeChecker<TObjectRef>::Check(sptr.get()): Expected type graph.Graph but get graph.HeteroGraph\n",
      "Stack trace:\n",
      "  [bt] (0) /home/ubuntu/anthony/KG_LinkPrediction_Project/my_project_env/lib/python3.8/site-packages/dgl/libdgl.so(dmlc::LogMessageFatal::~LogMessageFatal()+0x4f) [0x7f2cd6a3f13f]\n",
      "  [bt] (1) /home/ubuntu/anthony/KG_LinkPrediction_Project/my_project_env/lib/python3.8/site-packages/dgl/libdgl.so(dgl::GraphRef dgl::runtime::DGLArgValue::AsObjectRef<dgl::GraphRef>() const+0x264) [0x7f2cd6baccf4]\n",
      "  [bt] (2) /home/ubuntu/anthony/KG_LinkPrediction_Project/my_project_env/lib/python3.8/site-packages/dgl/libdgl.so(+0x999680) [0x7f2cd71c1680]\n",
      "  [bt] (3) /home/ubuntu/anthony/KG_LinkPrediction_Project/my_project_env/lib/python3.8/site-packages/dgl/libdgl.so(+0x99a254) [0x7f2cd71c2254]\n",
      "  [bt] (4) /home/ubuntu/anthony/KG_LinkPrediction_Project/my_project_env/lib/python3.8/site-packages/dgl/libdgl.so(DGLFuncCall+0x48) [0x7f2cd711bd38]\n",
      "  [bt] (5) /home/ubuntu/anthony/KG_LinkPrediction_Project/my_project_env/lib/python3.8/site-packages/dgl/_ffi/_cy3/core.cpython-38-x86_64-linux-gnu.so(+0x15d2e) [0x7f2cd6161d2e]\n",
      "  [bt] (6) /home/ubuntu/anthony/KG_LinkPrediction_Project/my_project_env/lib/python3.8/site-packages/dgl/_ffi/_cy3/core.cpython-38-x86_64-linux-gnu.so(+0x1625b) [0x7f2cd616225b]\n",
      "  [bt] (7) /home/ubuntu/anthony/KG_LinkPrediction_Project/my_project_env/bin/python(_PyObject_MakeTpCall+0x28f) [0x5fff6f]\n",
      "  [bt] (8) /home/ubuntu/anthony/KG_LinkPrediction_Project/my_project_env/bin/python(_PyEval_EvalFrameDefault+0x5553) [0x57dd13]\n",
      "\n",
      "\n"
     ]
    }
   ],
   "source": [
    "!DGLBACKEND=pytorch dglke_train --dataset WANGKG --data_path ./train \\\n",
    "                               --data_files drkg_train.tsv drkg_valid.tsv drkg_test.tsv \\\n",
    "                               --format 'raw_udd_hrt' --model_name TransE_l2 --batch_size 2048 \\\n",
    "                               --neg_sample_size 256 --hidden_dim 400 --gamma 12.0 --lr 0.1 \\\n",
    "                               --max_step 100000 --log_interval 1000 --batch_size_eval 16 -adv \\\n",
    "                               --regularization_coef 1.00E-07 --test --num_thread 1 \\\n",
    "                               --gpu 0 1 2 3 4 5 6 7 --num_proc 8 \\\n",
    "                               --neg_sample_size_eval 10000 --async_update"
   ]
  },
  {
   "cell_type": "code",
   "execution_count": null,
   "id": "running-demographic",
   "metadata": {},
   "outputs": [],
   "source": []
  }
 ],
 "metadata": {
  "kernelspec": {
   "display_name": "Python 3",
   "language": "python",
   "name": "python3"
  },
  "language_info": {
   "codemirror_mode": {
    "name": "ipython",
    "version": 3
   },
   "file_extension": ".py",
   "mimetype": "text/x-python",
   "name": "python",
   "nbconvert_exporter": "python",
   "pygments_lexer": "ipython3",
   "version": "3.8.0"
  }
 },
 "nbformat": 4,
 "nbformat_minor": 5
}
