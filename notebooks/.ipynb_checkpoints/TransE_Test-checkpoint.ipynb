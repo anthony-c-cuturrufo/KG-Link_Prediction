{
 "cells": [
  {
   "cell_type": "code",
   "execution_count": 1,
   "metadata": {},
   "outputs": [],
   "source": [
    "drkg_file = '../data/v1_res/relation/DDires.csv'"
   ]
  },
  {
   "cell_type": "code",
   "execution_count": 7,
   "metadata": {},
   "outputs": [
    {
     "ename": "ImportError",
     "evalue": "attempted relative import with no known parent package",
     "output_type": "error",
     "traceback": [
      "\u001b[0;31m---------------------------------------------------------------------------\u001b[0m",
      "\u001b[0;31mImportError\u001b[0m                               Traceback (most recent call last)",
      "\u001b[0;32m<ipython-input-7-b43207031a2b>\u001b[0m in \u001b[0;36m<module>\u001b[0;34m\u001b[0m\n\u001b[0;32m----> 1\u001b[0;31m \u001b[0;32mfrom\u001b[0m \u001b[0;34m.\u001b[0m\u001b[0;34m.\u001b[0m\u001b[0mlib\u001b[0m \u001b[0;32mimport\u001b[0m \u001b[0mformat_transformer\u001b[0m\u001b[0;34m\u001b[0m\u001b[0;34m\u001b[0m\u001b[0m\n\u001b[0m",
      "\u001b[0;31mImportError\u001b[0m: attempted relative import with no known parent package"
     ]
    }
   ],
   "source": [
    "from ..lib import format_transformer"
   ]
  },
  {
   "cell_type": "code",
   "execution_count": 3,
   "metadata": {},
   "outputs": [
    {
     "data": {
      "text/html": [
       "<div>\n",
       "<style scoped>\n",
       "    .dataframe tbody tr th:only-of-type {\n",
       "        vertical-align: middle;\n",
       "    }\n",
       "\n",
       "    .dataframe tbody tr th {\n",
       "        vertical-align: top;\n",
       "    }\n",
       "\n",
       "    .dataframe thead th {\n",
       "        text-align: right;\n",
       "    }\n",
       "</style>\n",
       "<table border=\"1\" class=\"dataframe\">\n",
       "  <thead>\n",
       "    <tr style=\"text-align: right;\">\n",
       "      <th></th>\n",
       "      <th>Drug</th>\n",
       "      <th>Disease</th>\n",
       "      <th>Palliates_Hetionet</th>\n",
       "      <th>Treats_Hetionet</th>\n",
       "      <th>Effect_KEGG</th>\n",
       "      <th>Association_CTD</th>\n",
       "    </tr>\n",
       "  </thead>\n",
       "  <tbody>\n",
       "    <tr>\n",
       "      <th>0</th>\n",
       "      <td>DrugBank:DB00997</td>\n",
       "      <td>DOID:363</td>\n",
       "      <td>0</td>\n",
       "      <td>1</td>\n",
       "      <td>0</td>\n",
       "      <td>1</td>\n",
       "    </tr>\n",
       "    <tr>\n",
       "      <th>1</th>\n",
       "      <td>DrugBank:DB00206</td>\n",
       "      <td>DOID:10763</td>\n",
       "      <td>0</td>\n",
       "      <td>1</td>\n",
       "      <td>0</td>\n",
       "      <td>1</td>\n",
       "    </tr>\n",
       "    <tr>\n",
       "      <th>2</th>\n",
       "      <td>DrugBank:DB00960</td>\n",
       "      <td>DOID:10763</td>\n",
       "      <td>0</td>\n",
       "      <td>1</td>\n",
       "      <td>0</td>\n",
       "      <td>1</td>\n",
       "    </tr>\n",
       "    <tr>\n",
       "      <th>3</th>\n",
       "      <td>DrugBank:DB00665</td>\n",
       "      <td>DOID:10283</td>\n",
       "      <td>0</td>\n",
       "      <td>1</td>\n",
       "      <td>1</td>\n",
       "      <td>1</td>\n",
       "    </tr>\n",
       "    <tr>\n",
       "      <th>4</th>\n",
       "      <td>DrugBank:DB00290</td>\n",
       "      <td>DOID:2998</td>\n",
       "      <td>0</td>\n",
       "      <td>1</td>\n",
       "      <td>0</td>\n",
       "      <td>1</td>\n",
       "    </tr>\n",
       "  </tbody>\n",
       "</table>\n",
       "</div>"
      ],
      "text/plain": [
       "               Drug     Disease  Palliates_Hetionet  Treats_Hetionet  \\\n",
       "0  DrugBank:DB00997    DOID:363                   0                1   \n",
       "1  DrugBank:DB00206  DOID:10763                   0                1   \n",
       "2  DrugBank:DB00960  DOID:10763                   0                1   \n",
       "3  DrugBank:DB00665  DOID:10283                   0                1   \n",
       "4  DrugBank:DB00290   DOID:2998                   0                1   \n",
       "\n",
       "   Effect_KEGG  Association_CTD  \n",
       "0            0                1  \n",
       "1            0                1  \n",
       "2            0                1  \n",
       "3            1                1  \n",
       "4            0                1  "
      ]
     },
     "execution_count": 3,
     "metadata": {},
     "output_type": "execute_result"
    }
   ],
   "source": [
    "import pandas as pd\n",
    "import numpy as np\n",
    "\n",
    "df = pd.read_csv(drkg_file)\n",
    "df.head()"
   ]
  },
  {
   "cell_type": "code",
   "execution_count": 4,
   "metadata": {},
   "outputs": [],
   "source": [
    "trips = format_transformer.transform_kg_csv_to_triplets([drkg_file])"
   ]
  },
  {
   "cell_type": "code",
   "execution_count": 5,
   "metadata": {},
   "outputs": [
    {
     "data": {
      "text/plain": [
       "[['DrugBank:DB00997', 'Treats_Hetionet', 'DOID:363'],\n",
       " ['DrugBank:DB00997', 'Association_CTD', 'DOID:363'],\n",
       " ['DrugBank:DB00206', 'Treats_Hetionet', 'DOID:10763'],\n",
       " ['DrugBank:DB00206', 'Association_CTD', 'DOID:10763'],\n",
       " ['DrugBank:DB00960', 'Treats_Hetionet', 'DOID:10763']]"
      ]
     },
     "execution_count": 5,
     "metadata": {},
     "output_type": "execute_result"
    }
   ],
   "source": [
    "trips[0:5]"
   ]
  },
  {
   "cell_type": "code",
   "execution_count": 9,
   "metadata": {},
   "outputs": [
    {
     "data": {
      "text/plain": [
       "Index(['Drug', 'Disease', 'Palliates_Hetionet', 'Treats_Hetionet',\n",
       "       'Effect_KEGG', 'Association_CTD'],\n",
       "      dtype='object')"
      ]
     },
     "execution_count": 9,
     "metadata": {},
     "output_type": "execute_result"
    }
   ],
   "source": [
    "test_df.columns"
   ]
  },
  {
   "cell_type": "code",
   "execution_count": null,
   "metadata": {},
   "outputs": [],
   "source": [
    "df = df.filter(['Drug', 'Palliates_Hetionet','Disease'], axis = 1)\n"
   ]
  },
  {
   "cell_type": "code",
   "execution_count": 5,
   "metadata": {},
   "outputs": [],
   "source": [
    "df['Palliates_Hetionet'] = df['Palliates_Hetionet'].apply(str)"
   ]
  },
  {
   "cell_type": "code",
   "execution_count": 6,
   "metadata": {},
   "outputs": [
    {
     "data": {
      "text/html": [
       "<div>\n",
       "<style scoped>\n",
       "    .dataframe tbody tr th:only-of-type {\n",
       "        vertical-align: middle;\n",
       "    }\n",
       "\n",
       "    .dataframe tbody tr th {\n",
       "        vertical-align: top;\n",
       "    }\n",
       "\n",
       "    .dataframe thead th {\n",
       "        text-align: right;\n",
       "    }\n",
       "</style>\n",
       "<table border=\"1\" class=\"dataframe\">\n",
       "  <thead>\n",
       "    <tr style=\"text-align: right;\">\n",
       "      <th></th>\n",
       "      <th>Drug</th>\n",
       "      <th>Palliates_Hetionet</th>\n",
       "      <th>Disease</th>\n",
       "    </tr>\n",
       "  </thead>\n",
       "  <tbody>\n",
       "    <tr>\n",
       "      <th>0</th>\n",
       "      <td>DrugBank:DB00997</td>\n",
       "      <td>0</td>\n",
       "      <td>DOID:363</td>\n",
       "    </tr>\n",
       "    <tr>\n",
       "      <th>1</th>\n",
       "      <td>DrugBank:DB00206</td>\n",
       "      <td>0</td>\n",
       "      <td>DOID:10763</td>\n",
       "    </tr>\n",
       "    <tr>\n",
       "      <th>2</th>\n",
       "      <td>DrugBank:DB00960</td>\n",
       "      <td>0</td>\n",
       "      <td>DOID:10763</td>\n",
       "    </tr>\n",
       "    <tr>\n",
       "      <th>3</th>\n",
       "      <td>DrugBank:DB00665</td>\n",
       "      <td>0</td>\n",
       "      <td>DOID:10283</td>\n",
       "    </tr>\n",
       "    <tr>\n",
       "      <th>4</th>\n",
       "      <td>DrugBank:DB00290</td>\n",
       "      <td>0</td>\n",
       "      <td>DOID:2998</td>\n",
       "    </tr>\n",
       "  </tbody>\n",
       "</table>\n",
       "</div>"
      ],
      "text/plain": [
       "               Drug Palliates_Hetionet     Disease\n",
       "0  DrugBank:DB00997                  0    DOID:363\n",
       "1  DrugBank:DB00206                  0  DOID:10763\n",
       "2  DrugBank:DB00960                  0  DOID:10763\n",
       "3  DrugBank:DB00665                  0  DOID:10283\n",
       "4  DrugBank:DB00290                  0   DOID:2998"
      ]
     },
     "execution_count": 6,
     "metadata": {},
     "output_type": "execute_result"
    }
   ],
   "source": [
    "df.head()"
   ]
  },
  {
   "cell_type": "code",
   "execution_count": 7,
   "metadata": {},
   "outputs": [],
   "source": [
    "df = df[df.Palliates_Hetionet == '1']"
   ]
  },
  {
   "cell_type": "code",
   "execution_count": 8,
   "metadata": {},
   "outputs": [],
   "source": [
    "triples = df.values.tolist()"
   ]
  },
  {
   "cell_type": "code",
   "execution_count": 9,
   "metadata": {},
   "outputs": [
    {
     "data": {
      "text/plain": [
       "['DrugBank:DB01175', '1', 'DOID:3312']"
      ]
     },
     "execution_count": 9,
     "metadata": {},
     "output_type": "execute_result"
    }
   ],
   "source": [
    "triples[0]"
   ]
  },
  {
   "cell_type": "code",
   "execution_count": 10,
   "metadata": {},
   "outputs": [
    {
     "data": {
      "text/plain": [
       "390"
      ]
     },
     "execution_count": 10,
     "metadata": {},
     "output_type": "execute_result"
    }
   ],
   "source": [
    "num_triples = len(triples)\n",
    "num_triples"
   ]
  },
  {
   "cell_type": "code",
   "execution_count": 11,
   "metadata": {},
   "outputs": [],
   "source": [
    "seed = np.arange(num_triples)\n",
    "np.random.shuffle(seed)\n",
    "\n",
    "train_cnt = int(num_triples * 0.9)\n",
    "valid_cnt = int(num_triples * 0.05)\n",
    "train_set = seed[:train_cnt]\n",
    "train_set = train_set.tolist()\n",
    "valid_set = seed[train_cnt:train_cnt+valid_cnt].tolist()\n",
    "test_set = seed[train_cnt+valid_cnt:].tolist()"
   ]
  },
  {
   "cell_type": "code",
   "execution_count": 13,
   "metadata": {},
   "outputs": [],
   "source": [
    "with open(\"train/drkg_train.tsv\", 'w+') as f:\n",
    "    for idx in train_set:\n",
    "        f.writelines(\"{}\\t{}\\t{}\\n\".format(triples[idx][0], triples[idx][1], triples[idx][2]))\n",
    "        \n",
    "with open(\"train/drkg_valid.tsv\", 'w+') as f:\n",
    "    for idx in valid_set:\n",
    "        f.writelines(\"{}\\t{}\\t{}\\n\".format(triples[idx][0], triples[idx][1], triples[idx][2]))\n",
    "\n",
    "with open(\"train/drkg_test.tsv\", 'w+') as f:\n",
    "    for idx in test_set:\n",
    "        f.writelines(\"{}\\t{}\\t{}\\n\".format(triples[idx][0], triples[idx][1], triples[idx][2]))"
   ]
  },
  {
   "cell_type": "code",
   "execution_count": 11,
   "metadata": {},
   "outputs": [
    {
     "name": "stdout",
     "output_type": "stream",
     "text": [
      "Using backend: pytorch\n",
      "Traceback (most recent call last):\n",
      "  File \"/home/ubuntu/anthony/KG_LinkPrediction_Project/my_project_env/bin/dglke_train\", line 8, in <module>\n",
      "    sys.exit(main())\n",
      "  File \"/home/ubuntu/anthony/KG_LinkPrediction_Project/my_project_env/lib/python3.8/site-packages/dglke/train.py\", line 81, in main\n",
      "    dataset = get_dataset(args.data_path,\n",
      "  File \"/home/ubuntu/anthony/KG_LinkPrediction_Project/my_project_env/lib/python3.8/site-packages/dglke/dataloader/KGDataset.py\", line 649, in get_dataset\n",
      "    dataset = KGDatasetUDDRaw(data_path, data_name, delimiter, files, format, has_edge_importance)\n",
      "  File \"/home/ubuntu/anthony/KG_LinkPrediction_Project/my_project_env/lib/python3.8/site-packages/dglke/dataloader/KGDataset.py\", line 415, in __init__\n",
      "    assert os.path.exists(os.path.join(path, f)), \\\n",
      "AssertionError: File drkg_train.tsv not exist in ./train\n"
     ]
    }
   ],
   "source": [
    "!DGLBACKEND=pytorch dglke_train --dataset WANGKG --data_path ./train \\\n",
    "                               --data_files drkg_train.tsv drkg_valid.tsv drkg_test.tsv \\\n",
    "                               --format 'raw_udd_hrt' --model_name TransE_l2 --batch_size 2048 \\\n",
    "                               --neg_sample_size 256 --hidden_dim 400 --gamma 12.0 --lr 0.1 \\\n",
    "                               --max_step 100000 --log_interval 1000 --batch_size_eval 16 -adv \\\n",
    "                               --regularization_coef 1.00E-07 --test --num_thread 1 \\\n",
    "                               --gpu 0 1 2 3 4 5 6 7 --num_proc 8 \\\n",
    "                               --neg_sample_size_eval 10000 --async_update"
   ]
  },
  {
   "cell_type": "code",
   "execution_count": null,
   "metadata": {},
   "outputs": [],
   "source": []
  }
 ],
 "metadata": {
  "kernelspec": {
   "display_name": "Python 3",
   "language": "python",
   "name": "python3"
  },
  "language_info": {
   "codemirror_mode": {
    "name": "ipython",
    "version": 3
   },
   "file_extension": ".py",
   "mimetype": "text/x-python",
   "name": "python",
   "nbconvert_exporter": "python",
   "pygments_lexer": "ipython3",
   "version": "3.8.5"
  }
 },
 "nbformat": 4,
 "nbformat_minor": 5
}
