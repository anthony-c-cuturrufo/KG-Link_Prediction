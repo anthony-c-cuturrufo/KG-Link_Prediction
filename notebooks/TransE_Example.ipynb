{
 "cells": [
  {
   "cell_type": "code",
   "execution_count": 1,
   "id": "apart-montana",
   "metadata": {},
   "outputs": [
    {
     "name": "stdout",
     "output_type": "stream",
     "text": [
      "/home/ubuntu/anthony/anthony-env/Project/KG-Link_Prediction\n"
     ]
    }
   ],
   "source": [
    "cd .."
   ]
  },
  {
   "cell_type": "code",
   "execution_count": 2,
   "id": "radical-virtue",
   "metadata": {},
   "outputs": [],
   "source": [
    "#Code based on https://www.dgl.ai/news/2020/06/09/covid.html"
   ]
  },
  {
   "cell_type": "code",
   "execution_count": 3,
   "id": "demonstrated-vanilla",
   "metadata": {},
   "outputs": [],
   "source": [
    "from lib import format_transformer"
   ]
  },
  {
   "cell_type": "code",
   "execution_count": 4,
   "id": "therapeutic-forty",
   "metadata": {},
   "outputs": [
    {
     "data": {
      "text/html": [
       "<div>\n",
       "<style scoped>\n",
       "    .dataframe tbody tr th:only-of-type {\n",
       "        vertical-align: middle;\n",
       "    }\n",
       "\n",
       "    .dataframe tbody tr th {\n",
       "        vertical-align: top;\n",
       "    }\n",
       "\n",
       "    .dataframe thead th {\n",
       "        text-align: right;\n",
       "    }\n",
       "</style>\n",
       "<table border=\"1\" class=\"dataframe\">\n",
       "  <thead>\n",
       "    <tr style=\"text-align: right;\">\n",
       "      <th></th>\n",
       "      <th>Drug</th>\n",
       "      <th>Disease</th>\n",
       "      <th>Palliates_Hetionet</th>\n",
       "      <th>Treats_Hetionet</th>\n",
       "      <th>Effect_KEGG</th>\n",
       "      <th>Association_CTD</th>\n",
       "    </tr>\n",
       "  </thead>\n",
       "  <tbody>\n",
       "    <tr>\n",
       "      <th>0</th>\n",
       "      <td>DrugBank:DB00997</td>\n",
       "      <td>DOID:363</td>\n",
       "      <td>0</td>\n",
       "      <td>1</td>\n",
       "      <td>0</td>\n",
       "      <td>1</td>\n",
       "    </tr>\n",
       "    <tr>\n",
       "      <th>1</th>\n",
       "      <td>DrugBank:DB00206</td>\n",
       "      <td>DOID:10763</td>\n",
       "      <td>0</td>\n",
       "      <td>1</td>\n",
       "      <td>0</td>\n",
       "      <td>1</td>\n",
       "    </tr>\n",
       "    <tr>\n",
       "      <th>2</th>\n",
       "      <td>DrugBank:DB00960</td>\n",
       "      <td>DOID:10763</td>\n",
       "      <td>0</td>\n",
       "      <td>1</td>\n",
       "      <td>0</td>\n",
       "      <td>1</td>\n",
       "    </tr>\n",
       "    <tr>\n",
       "      <th>3</th>\n",
       "      <td>DrugBank:DB00665</td>\n",
       "      <td>DOID:10283</td>\n",
       "      <td>0</td>\n",
       "      <td>1</td>\n",
       "      <td>1</td>\n",
       "      <td>1</td>\n",
       "    </tr>\n",
       "    <tr>\n",
       "      <th>4</th>\n",
       "      <td>DrugBank:DB00290</td>\n",
       "      <td>DOID:2998</td>\n",
       "      <td>0</td>\n",
       "      <td>1</td>\n",
       "      <td>0</td>\n",
       "      <td>1</td>\n",
       "    </tr>\n",
       "  </tbody>\n",
       "</table>\n",
       "</div>"
      ],
      "text/plain": [
       "               Drug     Disease  Palliates_Hetionet  Treats_Hetionet  \\\n",
       "0  DrugBank:DB00997    DOID:363                   0                1   \n",
       "1  DrugBank:DB00206  DOID:10763                   0                1   \n",
       "2  DrugBank:DB00960  DOID:10763                   0                1   \n",
       "3  DrugBank:DB00665  DOID:10283                   0                1   \n",
       "4  DrugBank:DB00290   DOID:2998                   0                1   \n",
       "\n",
       "   Effect_KEGG  Association_CTD  \n",
       "0            0                1  \n",
       "1            0                1  \n",
       "2            0                1  \n",
       "3            1                1  \n",
       "4            0                1  "
      ]
     },
     "execution_count": 4,
     "metadata": {},
     "output_type": "execute_result"
    }
   ],
   "source": [
    "import pandas as pd\n",
    "import numpy as np\n",
    "\n",
    "drkg_file = './data/v1_res/relation/DDires.csv'\n",
    "df = pd.read_csv(drkg_file)\n",
    "df.head()"
   ]
  },
  {
   "cell_type": "code",
   "execution_count": 11,
   "id": "british-screening",
   "metadata": {},
   "outputs": [],
   "source": [
    "triples = format_transformer.transform_kg_csv_to_triplets([drkg_file], relation_sample_ratio=.05)"
   ]
  },
  {
   "cell_type": "code",
   "execution_count": 12,
   "id": "sustained-citizenship",
   "metadata": {},
   "outputs": [
    {
     "data": {
      "text/plain": [
       "[['DrugBank:DB09389', 'Association_CTD', 'DOID:4989'],\n",
       " ['MESH:C049325', 'Association_CTD', 'DOID:10283'],\n",
       " ['MESH:D008555', 'Association_CTD', 'DOID:0060647'],\n",
       " ['MESH:C026942', 'Association_CTD', 'DOID:1287'],\n",
       " ['MESH:D015306', 'Association_CTD', 'DOID:4964']]"
      ]
     },
     "execution_count": 12,
     "metadata": {},
     "output_type": "execute_result"
    }
   ],
   "source": [
    "triples[0:5]"
   ]
  },
  {
   "cell_type": "code",
   "execution_count": 13,
   "id": "interpreted-complement",
   "metadata": {},
   "outputs": [
    {
     "data": {
      "text/plain": [
       "134263"
      ]
     },
     "execution_count": 13,
     "metadata": {},
     "output_type": "execute_result"
    }
   ],
   "source": [
    "len(triples)"
   ]
  },
  {
   "cell_type": "code",
   "execution_count": 14,
   "id": "logical-prophet",
   "metadata": {},
   "outputs": [],
   "source": [
    "format_transformer.partition_dataset(triples, \"WANGKG\", .9, .05)"
   ]
  },
  {
   "cell_type": "code",
   "execution_count": 17,
   "id": "radio-invite",
   "metadata": {},
   "outputs": [
    {
     "name": "stdout",
     "output_type": "stream",
     "text": [
      "Using backend: pytorch\n",
      "Reading train triples....\n",
      "Finished. Read 120836 train triples.\n",
      "Reading valid triples....\n",
      "Finished. Read 6713 valid triples.\n",
      "Reading test triples....\n",
      "Finished. Read 6714 test triples.\n",
      "|Train|: 120836\n",
      "random partition 120836 edges into 8 parts\n",
      "part 0 has 15105 edges\n",
      "part 1 has 15105 edges\n",
      "part 2 has 15105 edges\n",
      "part 3 has 15105 edges\n",
      "part 4 has 15105 edges\n",
      "part 5 has 15105 edges\n",
      "part 6 has 15105 edges\n",
      "part 7 has 15101 edges\n",
      "/home/ubuntu/anthony/anthony-env/lib/python3.6/site-packages/dgl/base.py:45: DGLWarning: Recommend creating graphs by `dgl.graph(data)` instead of `dgl.DGLGraph(data)`.\n",
      "  return warnings.warn(message, category=category, stacklevel=1)\n",
      "/home/ubuntu/anthony/anthony-env/lib/python3.6/site-packages/dgl/base.py:45: DGLWarning: Keyword arguments ['readonly', 'multigraph', 'sort_csr'] are deprecated in v0.5, and can be safely removed in all cases.\n",
      "  return warnings.warn(message, category=category, stacklevel=1)\n",
      "Traceback (most recent call last):\n",
      "  File \"/home/ubuntu/anthony/anthony-env/bin/dglke_train\", line 11, in <module>\n",
      "    sys.exit(main())\n",
      "  File \"/home/ubuntu/anthony/anthony-env/lib/python3.6/site-packages/dglke/train.py\", line 125, in main\n",
      "    rank=i)\n",
      "  File \"/home/ubuntu/anthony/anthony-env/lib/python3.6/site-packages/dglke/dataloader/sampler.py\", line 388, in create_sampler\n",
      "    return_false_neg=False)\n",
      "  File \"/home/ubuntu/anthony/anthony-env/lib/python3.6/site-packages/dgl/contrib/sampling/sampler.py\", line 695, in __init__\n",
      "    self._chunk_size)\n",
      "  File \"/home/ubuntu/anthony/anthony-env/lib/python3.6/site-packages/dgl/_ffi/_ctypes/function.py\", line 190, in __call__\n",
      "    ctypes.byref(ret_val), ctypes.byref(ret_tcode)))\n",
      "  File \"/home/ubuntu/anthony/anthony-env/lib/python3.6/site-packages/dgl/_ffi/base.py\", line 64, in check_call\n",
      "    raise DGLError(py_str(_LIB.DGLGetLastError()))\n",
      "dgl._ffi.base.DGLError: [22:05:27] /opt/dgl/include/dgl/packed_func_ext.h:117: Check failed: ObjectTypeChecker<TObjectRef>::Check(sptr.get()): Expected type graph.Graph but get graph.HeteroGraph\n",
      "Stack trace:\n",
      "  [bt] (0) /home/ubuntu/anthony/anthony-env/lib/python3.6/site-packages/dgl/libdgl.so(dmlc::LogMessageFatal::~LogMessageFatal()+0x4f) [0x7f75f0fdb13f]\n",
      "  [bt] (1) /home/ubuntu/anthony/anthony-env/lib/python3.6/site-packages/dgl/libdgl.so(dgl::GraphRef dgl::runtime::DGLArgValue::AsObjectRef<dgl::GraphRef>() const+0x264) [0x7f75f1148cf4]\n",
      "  [bt] (2) /home/ubuntu/anthony/anthony-env/lib/python3.6/site-packages/dgl/libdgl.so(+0x999680) [0x7f75f175d680]\n",
      "  [bt] (3) /home/ubuntu/anthony/anthony-env/lib/python3.6/site-packages/dgl/libdgl.so(+0x99a254) [0x7f75f175e254]\n",
      "  [bt] (4) /home/ubuntu/anthony/anthony-env/lib/python3.6/site-packages/dgl/libdgl.so(DGLFuncCall+0x48) [0x7f75f16b7d38]\n",
      "  [bt] (5) /usr/lib/x86_64-linux-gnu/libffi.so.6(ffi_call_unix64+0x4c) [0x7f765fe7bdae]\n",
      "  [bt] (6) /usr/lib/x86_64-linux-gnu/libffi.so.6(ffi_call+0x22f) [0x7f765fe7b71f]\n",
      "  [bt] (7) /usr/lib/python3.6/lib-dynload/_ctypes.cpython-36m-x86_64-linux-gnu.so(_ctypes_callproc+0x2b4) [0x7f766008f5a4]\n",
      "  [bt] (8) /usr/lib/python3.6/lib-dynload/_ctypes.cpython-36m-x86_64-linux-gnu.so(+0x11c13) [0x7f766008fc13]\n",
      "\n",
      "\n"
     ]
    }
   ],
   "source": [
    "!DGLBACKEND=pytorch dglke_train --dataset WANGKG --data_path ./notebooks/train \\\n",
    "                               --data_files WANGKG_train.tsv WANGKG_valid.tsv WANGKG_test.tsv \\\n",
    "                               --format 'raw_udd_hrt' --model_name TransE_l2 --batch_size 2048 \\\n",
    "                               --neg_sample_size 256 --hidden_dim 400 --gamma 12.0 --lr 0.1 \\\n",
    "                               --max_step 100000 --log_interval 1000 --batch_size_eval 16 -adv \\\n",
    "                               --regularization_coef 1.00E-07 --test --num_thread 1 \\\n",
    "                               --gpu 0 1 2 3 4 5 6 7 --num_proc 8 \\\n",
    "                               --neg_sample_size_eval 10000 --async_update"
   ]
  },
  {
   "cell_type": "code",
   "execution_count": null,
   "id": "killing-dakota",
   "metadata": {},
   "outputs": [],
   "source": []
  },
  {
   "cell_type": "code",
   "execution_count": null,
   "id": "divine-michigan",
   "metadata": {},
   "outputs": [],
   "source": []
  }
 ],
 "metadata": {
  "kernelspec": {
   "display_name": "Python 3",
   "language": "python",
   "name": "python3"
  },
  "language_info": {
   "codemirror_mode": {
    "name": "ipython",
    "version": 3
   },
   "file_extension": ".py",
   "mimetype": "text/x-python",
   "name": "python",
   "nbconvert_exporter": "python",
   "pygments_lexer": "ipython3",
   "version": "3.6.9"
  }
 },
 "nbformat": 4,
 "nbformat_minor": 5
}
