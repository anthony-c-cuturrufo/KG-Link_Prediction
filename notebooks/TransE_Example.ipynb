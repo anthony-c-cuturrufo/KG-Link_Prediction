{
 "cells": [
  {
   "cell_type": "code",
   "execution_count": 1,
   "id": "apart-montana",
   "metadata": {},
   "outputs": [
    {
     "name": "stdout",
     "output_type": "stream",
     "text": [
      "/Users/anthonycuturrufo/Documents/Research/Wang_Lab/Repo/KG_Link_Prediction/KG-Link_Prediction\n"
     ]
    }
   ],
   "source": [
    "cd .."
   ]
  },
  {
   "cell_type": "code",
   "execution_count": 3,
   "id": "demonstrated-vanilla",
   "metadata": {},
   "outputs": [],
   "source": [
    "from lib import format_transformer"
   ]
  },
  {
   "cell_type": "code",
   "execution_count": 4,
   "id": "therapeutic-forty",
   "metadata": {},
   "outputs": [
    {
     "data": {
      "text/html": [
       "<div>\n",
       "<style scoped>\n",
       "    .dataframe tbody tr th:only-of-type {\n",
       "        vertical-align: middle;\n",
       "    }\n",
       "\n",
       "    .dataframe tbody tr th {\n",
       "        vertical-align: top;\n",
       "    }\n",
       "\n",
       "    .dataframe thead th {\n",
       "        text-align: right;\n",
       "    }\n",
       "</style>\n",
       "<table border=\"1\" class=\"dataframe\">\n",
       "  <thead>\n",
       "    <tr style=\"text-align: right;\">\n",
       "      <th></th>\n",
       "      <th>Drug</th>\n",
       "      <th>Disease</th>\n",
       "      <th>Palliates_Hetionet</th>\n",
       "      <th>Treats_Hetionet</th>\n",
       "      <th>Effect_KEGG</th>\n",
       "      <th>Association_CTD</th>\n",
       "    </tr>\n",
       "  </thead>\n",
       "  <tbody>\n",
       "    <tr>\n",
       "      <th>0</th>\n",
       "      <td>DrugBank:DB00997</td>\n",
       "      <td>DOID:363</td>\n",
       "      <td>0</td>\n",
       "      <td>1</td>\n",
       "      <td>0</td>\n",
       "      <td>1</td>\n",
       "    </tr>\n",
       "    <tr>\n",
       "      <th>1</th>\n",
       "      <td>DrugBank:DB00206</td>\n",
       "      <td>DOID:10763</td>\n",
       "      <td>0</td>\n",
       "      <td>1</td>\n",
       "      <td>0</td>\n",
       "      <td>1</td>\n",
       "    </tr>\n",
       "    <tr>\n",
       "      <th>2</th>\n",
       "      <td>DrugBank:DB00960</td>\n",
       "      <td>DOID:10763</td>\n",
       "      <td>0</td>\n",
       "      <td>1</td>\n",
       "      <td>0</td>\n",
       "      <td>1</td>\n",
       "    </tr>\n",
       "    <tr>\n",
       "      <th>3</th>\n",
       "      <td>DrugBank:DB00665</td>\n",
       "      <td>DOID:10283</td>\n",
       "      <td>0</td>\n",
       "      <td>1</td>\n",
       "      <td>1</td>\n",
       "      <td>1</td>\n",
       "    </tr>\n",
       "    <tr>\n",
       "      <th>4</th>\n",
       "      <td>DrugBank:DB00290</td>\n",
       "      <td>DOID:2998</td>\n",
       "      <td>0</td>\n",
       "      <td>1</td>\n",
       "      <td>0</td>\n",
       "      <td>1</td>\n",
       "    </tr>\n",
       "  </tbody>\n",
       "</table>\n",
       "</div>"
      ],
      "text/plain": [
       "               Drug     Disease  Palliates_Hetionet  Treats_Hetionet  \\\n",
       "0  DrugBank:DB00997    DOID:363                   0                1   \n",
       "1  DrugBank:DB00206  DOID:10763                   0                1   \n",
       "2  DrugBank:DB00960  DOID:10763                   0                1   \n",
       "3  DrugBank:DB00665  DOID:10283                   0                1   \n",
       "4  DrugBank:DB00290   DOID:2998                   0                1   \n",
       "\n",
       "   Effect_KEGG  Association_CTD  \n",
       "0            0                1  \n",
       "1            0                1  \n",
       "2            0                1  \n",
       "3            1                1  \n",
       "4            0                1  "
      ]
     },
     "execution_count": 4,
     "metadata": {},
     "output_type": "execute_result"
    }
   ],
   "source": [
    "import pandas as pd\n",
    "import numpy as np\n",
    "\n",
    "drkg_file = './data/v1_res/relation/DDires.csv'\n",
    "df = pd.read_csv(drkg_file)\n",
    "df.head()"
   ]
  },
  {
   "cell_type": "code",
   "execution_count": 5,
   "id": "british-screening",
   "metadata": {},
   "outputs": [],
   "source": [
    "triples = format_transformer.transform_kg_csv_to_triplets([drkg_file])"
   ]
  },
  {
   "cell_type": "code",
   "execution_count": 6,
   "id": "sustained-citizenship",
   "metadata": {},
   "outputs": [
    {
     "data": {
      "text/plain": [
       "[['DrugBank:DB00997', 'Treats_Hetionet', 'DOID:363'],\n",
       " ['DrugBank:DB00997', 'Association_CTD', 'DOID:363'],\n",
       " ['DrugBank:DB00206', 'Treats_Hetionet', 'DOID:10763'],\n",
       " ['DrugBank:DB00206', 'Association_CTD', 'DOID:10763'],\n",
       " ['DrugBank:DB00960', 'Treats_Hetionet', 'DOID:10763']]"
      ]
     },
     "execution_count": 6,
     "metadata": {},
     "output_type": "execute_result"
    }
   ],
   "source": [
    "triples[0:5]"
   ]
  },
  {
   "cell_type": "code",
   "execution_count": 7,
   "id": "logical-prophet",
   "metadata": {},
   "outputs": [],
   "source": [
    "format_transformer.partition_dataset(triples, \"WANGKG\", .9, .05)"
   ]
  },
  {
   "cell_type": "code",
   "execution_count": 8,
   "id": "radio-invite",
   "metadata": {},
   "outputs": [
    {
     "name": "stdout",
     "output_type": "stream",
     "text": [
      "Using backend: pytorch\n",
      "Reading train triples....\n",
      "Finished. Read 351 train triples.\n",
      "Reading valid triples....\n",
      "Finished. Read 19 valid triples.\n",
      "Reading test triples....\n",
      "Finished. Read 20 test triples.\n",
      "|Train|: 351\n",
      "random partition 351 edges into 8 parts\n",
      "part 0 has 44 edges\n",
      "part 1 has 44 edges\n",
      "part 2 has 44 edges\n",
      "part 3 has 44 edges\n",
      "part 4 has 44 edges\n",
      "part 5 has 44 edges\n",
      "part 6 has 44 edges\n",
      "part 7 has 43 edges\n",
      "/Users/anthonycuturrufo/opt/anaconda3/lib/python3.8/site-packages/dgl/base.py:25: UserWarning: multigraph will be deprecated.DGL will treat all graphs as multigraph in the future.\n",
      "  warnings.warn(msg, warn_type)\n",
      "|valid|: 19\n",
      "|test|: 20\n",
      "Total initialize time 0.121 seconds\n",
      "Traceback (most recent call last):\n",
      "  File \"/Users/anthonycuturrufo/opt/anaconda3/bin/dglke_train\", line 8, in <module>\n",
      "    sys.exit(main())\n",
      "  File \"/Users/anthonycuturrufo/opt/anaconda3/lib/python3.8/site-packages/dglke/train.py\", line 279, in main\n",
      "    proc.start()\n",
      "  File \"/Users/anthonycuturrufo/opt/anaconda3/lib/python3.8/multiprocessing/process.py\", line 121, in start\n",
      "    self._popen = self._Popen(self)\n",
      "  File \"/Users/anthonycuturrufo/opt/anaconda3/lib/python3.8/multiprocessing/context.py\", line 224, in _Popen\n",
      "    return _default_context.get_context().Process._Popen(process_obj)\n",
      "  File \"/Users/anthonycuturrufo/opt/anaconda3/lib/python3.8/multiprocessing/context.py\", line 284, in _Popen\n",
      "    return Popen(process_obj)\n",
      "  File \"/Users/anthonycuturrufo/opt/anaconda3/lib/python3.8/multiprocessing/popen_spawn_posix.py\", line 32, in __init__\n",
      "    super().__init__(process_obj)\n",
      "  File \"/Users/anthonycuturrufo/opt/anaconda3/lib/python3.8/multiprocessing/popen_fork.py\", line 19, in __init__\n",
      "    self._launch(process_obj)\n",
      "  File \"/Users/anthonycuturrufo/opt/anaconda3/lib/python3.8/multiprocessing/popen_spawn_posix.py\", line 47, in _launch\n",
      "    reduction.dump(process_obj, fp)\n",
      "  File \"/Users/anthonycuturrufo/opt/anaconda3/lib/python3.8/multiprocessing/reduction.py\", line 60, in dump\n",
      "    ForkingPickler(file, protocol).dump(obj)\n",
      "AttributeError: Can't pickle local object 'TransEScore.create_neg.<locals>.fn'\n"
     ]
    }
   ],
   "source": [
    "!DGLBACKEND=pytorch dglke_train --dataset WANGKG --data_path ./notebooks/train \\\n",
    "                               --data_files drkg_train.tsv drkg_valid.tsv drkg_test.tsv \\\n",
    "                               --format 'raw_udd_hrt' --model_name TransE_l2 --batch_size 2048 \\\n",
    "                               --neg_sample_size 256 --hidden_dim 400 --gamma 12.0 --lr 0.1 \\\n",
    "                               --max_step 100000 --log_interval 1000 --batch_size_eval 16 -adv \\\n",
    "                               --regularization_coef 1.00E-07 --test --num_thread 1 \\\n",
    "                               --gpu 0 1 2 3 4 5 6 7 --num_proc 8 \\\n",
    "                               --neg_sample_size_eval 10000 --async_update"
   ]
  },
  {
   "cell_type": "code",
   "execution_count": null,
   "id": "killing-dakota",
   "metadata": {},
   "outputs": [],
   "source": []
  },
  {
   "cell_type": "code",
   "execution_count": null,
   "id": "divine-michigan",
   "metadata": {},
   "outputs": [],
   "source": []
  }
 ],
 "metadata": {
  "kernelspec": {
   "display_name": "Python 3",
   "language": "python",
   "name": "python3"
  },
  "language_info": {
   "codemirror_mode": {
    "name": "ipython",
    "version": 3
   },
   "file_extension": ".py",
   "mimetype": "text/x-python",
   "name": "python",
   "nbconvert_exporter": "python",
   "pygments_lexer": "ipython3",
   "version": "3.8.5"
  }
 },
 "nbformat": 4,
 "nbformat_minor": 5
}
