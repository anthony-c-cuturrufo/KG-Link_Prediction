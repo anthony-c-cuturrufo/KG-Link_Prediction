{
 "cells": [
  {
   "cell_type": "code",
   "execution_count": 1,
   "id": "apart-montana",
   "metadata": {},
   "outputs": [
    {
     "name": "stdout",
     "output_type": "stream",
     "text": [
      "/Users/anthonycuturrufo/Documents/Research/Wang_Lab/Repo/KG_Link_Prediction/KG-Link_Prediction\n"
     ]
    }
   ],
   "source": [
    "cd .."
   ]
  },
  {
   "cell_type": "code",
   "execution_count": 2,
   "id": "radical-virtue",
   "metadata": {},
   "outputs": [],
   "source": [
    "#Code based on https://www.dgl.ai/news/2020/06/09/covid.html"
   ]
  },
  {
   "cell_type": "code",
   "execution_count": 23,
   "id": "demonstrated-vanilla",
   "metadata": {},
   "outputs": [],
   "source": [
    "from lib import format_transformer"
   ]
  },
  {
   "cell_type": "code",
   "execution_count": 24,
   "id": "therapeutic-forty",
   "metadata": {},
   "outputs": [
    {
     "data": {
      "text/html": [
       "<div>\n",
       "<style scoped>\n",
       "    .dataframe tbody tr th:only-of-type {\n",
       "        vertical-align: middle;\n",
       "    }\n",
       "\n",
       "    .dataframe tbody tr th {\n",
       "        vertical-align: top;\n",
       "    }\n",
       "\n",
       "    .dataframe thead th {\n",
       "        text-align: right;\n",
       "    }\n",
       "</style>\n",
       "<table border=\"1\" class=\"dataframe\">\n",
       "  <thead>\n",
       "    <tr style=\"text-align: right;\">\n",
       "      <th></th>\n",
       "      <th>Drug</th>\n",
       "      <th>Disease</th>\n",
       "      <th>Palliates_Hetionet</th>\n",
       "      <th>Treats_Hetionet</th>\n",
       "      <th>Effect_KEGG</th>\n",
       "      <th>Association_CTD</th>\n",
       "    </tr>\n",
       "  </thead>\n",
       "  <tbody>\n",
       "    <tr>\n",
       "      <th>0</th>\n",
       "      <td>DrugBank:DB00997</td>\n",
       "      <td>DOID:363</td>\n",
       "      <td>0</td>\n",
       "      <td>1</td>\n",
       "      <td>0</td>\n",
       "      <td>1</td>\n",
       "    </tr>\n",
       "    <tr>\n",
       "      <th>1</th>\n",
       "      <td>DrugBank:DB00206</td>\n",
       "      <td>DOID:10763</td>\n",
       "      <td>0</td>\n",
       "      <td>1</td>\n",
       "      <td>0</td>\n",
       "      <td>1</td>\n",
       "    </tr>\n",
       "    <tr>\n",
       "      <th>2</th>\n",
       "      <td>DrugBank:DB00960</td>\n",
       "      <td>DOID:10763</td>\n",
       "      <td>0</td>\n",
       "      <td>1</td>\n",
       "      <td>0</td>\n",
       "      <td>1</td>\n",
       "    </tr>\n",
       "    <tr>\n",
       "      <th>3</th>\n",
       "      <td>DrugBank:DB00665</td>\n",
       "      <td>DOID:10283</td>\n",
       "      <td>0</td>\n",
       "      <td>1</td>\n",
       "      <td>1</td>\n",
       "      <td>1</td>\n",
       "    </tr>\n",
       "    <tr>\n",
       "      <th>4</th>\n",
       "      <td>DrugBank:DB00290</td>\n",
       "      <td>DOID:2998</td>\n",
       "      <td>0</td>\n",
       "      <td>1</td>\n",
       "      <td>0</td>\n",
       "      <td>1</td>\n",
       "    </tr>\n",
       "  </tbody>\n",
       "</table>\n",
       "</div>"
      ],
      "text/plain": [
       "               Drug     Disease  Palliates_Hetionet  Treats_Hetionet  \\\n",
       "0  DrugBank:DB00997    DOID:363                   0                1   \n",
       "1  DrugBank:DB00206  DOID:10763                   0                1   \n",
       "2  DrugBank:DB00960  DOID:10763                   0                1   \n",
       "3  DrugBank:DB00665  DOID:10283                   0                1   \n",
       "4  DrugBank:DB00290   DOID:2998                   0                1   \n",
       "\n",
       "   Effect_KEGG  Association_CTD  \n",
       "0            0                1  \n",
       "1            0                1  \n",
       "2            0                1  \n",
       "3            1                1  \n",
       "4            0                1  "
      ]
     },
     "execution_count": 24,
     "metadata": {},
     "output_type": "execute_result"
    }
   ],
   "source": [
    "import pandas as pd\n",
    "import numpy as np\n",
    "\n",
    "drkg_file = './data/v1_res/relation/DDires.csv'\n",
    "df = pd.read_csv(drkg_file)\n",
    "df.head()"
   ]
  },
  {
   "cell_type": "code",
   "execution_count": 25,
   "id": "british-screening",
   "metadata": {},
   "outputs": [],
   "source": [
    "triples = format_transformer.transform_kg_csv_to_triplets([drkg_file])"
   ]
  },
  {
   "cell_type": "code",
   "execution_count": 26,
   "id": "sustained-citizenship",
   "metadata": {},
   "outputs": [
    {
     "data": {
      "text/plain": [
       "[['DrugBank:DB00997', 'Treats_Hetionet', 'DOID:363'],\n",
       " ['DrugBank:DB00997', 'Association_CTD', 'DOID:363'],\n",
       " ['DrugBank:DB00206', 'Treats_Hetionet', 'DOID:10763'],\n",
       " ['DrugBank:DB00206', 'Association_CTD', 'DOID:10763'],\n",
       " ['DrugBank:DB00960', 'Treats_Hetionet', 'DOID:10763']]"
      ]
     },
     "execution_count": 26,
     "metadata": {},
     "output_type": "execute_result"
    }
   ],
   "source": [
    "triples[0:5]"
   ]
  },
  {
   "cell_type": "code",
   "execution_count": 27,
   "id": "interpreted-complement",
   "metadata": {},
   "outputs": [
    {
     "data": {
      "text/plain": [
       "2685182"
      ]
     },
     "execution_count": 27,
     "metadata": {},
     "output_type": "execute_result"
    }
   ],
   "source": [
    "len(triples)"
   ]
  },
  {
   "cell_type": "code",
   "execution_count": 28,
   "id": "logical-prophet",
   "metadata": {},
   "outputs": [],
   "source": [
    "format_transformer.partition_dataset(triples, \"WANGKG\", .9, .05)"
   ]
  },
  {
   "cell_type": "code",
   "execution_count": 39,
   "id": "possible-franchise",
   "metadata": {},
   "outputs": [],
   "source": [
    "from csv import reader\n",
    "train_fp = \"notebooks/train/{name}_train.tsv\".format(name=\"WANGKG\")\n",
    "\n",
    "with open(train_fp, 'r') as read_obj:\n",
    "    csv_reader = reader(read_obj, delimiter = \"\\t\")\n",
    "    # Pass reader object to list() to get a list of lists\n",
    "    list_of_rows = list(csv_reader)\n",
    "    \n"
   ]
  },
  {
   "cell_type": "code",
   "execution_count": 41,
   "id": "minus-morris",
   "metadata": {},
   "outputs": [
    {
     "data": {
      "text/plain": [
       "[['MESH:C032036', 'Association_CTD', 'DOID:12270'],\n",
       " ['MESH:C065250', 'Association_CTD', 'DOID:4535'],\n",
       " ['MESH:C044578', 'Association_CTD', 'DOID:2237'],\n",
       " ['DrugBank:DB00997', 'Association_CTD', 'PharmGKB:PA153619833'],\n",
       " ['DrugBank:DB01452', 'Association_CTD', 'MESH:D012883'],\n",
       " ['MESH:C577929', 'Association_CTD', 'MESH:D003921'],\n",
       " ['DrugBank:DB00627', 'Association_CTD', 'KEGG:H01723'],\n",
       " ['MESH:D011509', 'Association_CTD', 'DOID:1227'],\n",
       " ['MESH:C022894', 'Association_CTD', 'PharmGKB:PA444547'],\n",
       " ['DrugBank:DB01101', 'Association_CTD', 'PharmGKB:PA444178']]"
      ]
     },
     "execution_count": 41,
     "metadata": {},
     "output_type": "execute_result"
    }
   ],
   "source": [
    "list_of_rows[0:10]"
   ]
  },
  {
   "cell_type": "code",
   "execution_count": 42,
   "id": "residential-suspension",
   "metadata": {},
   "outputs": [],
   "source": [
    "df_test2 = pd.DataFrame(list_of_rows, columns=[\"h\", \"r\", \"t\"])"
   ]
  },
  {
   "cell_type": "code",
   "execution_count": 43,
   "id": "decimal-flooring",
   "metadata": {},
   "outputs": [],
   "source": [
    "num_nodes = len(np.unique(df_test2.h.values))"
   ]
  },
  {
   "cell_type": "code",
   "execution_count": 44,
   "id": "fiscal-doubt",
   "metadata": {},
   "outputs": [
    {
     "data": {
      "text/plain": [
       "16251"
      ]
     },
     "execution_count": 44,
     "metadata": {},
     "output_type": "execute_result"
    }
   ],
   "source": [
    "num_nodes"
   ]
  },
  {
   "cell_type": "code",
   "execution_count": 29,
   "id": "radio-invite",
   "metadata": {},
   "outputs": [
    {
     "name": "stdout",
     "output_type": "stream",
     "text": [
      "Using backend: pytorch\n",
      "Traceback (most recent call last):\n",
      "  File \"/Users/anthonycuturrufo/opt/anaconda3/bin/dglke_train\", line 8, in <module>\n",
      "    sys.exit(main())\n",
      "  File \"/Users/anthonycuturrufo/opt/anaconda3/lib/python3.8/site-packages/dglke/train.py\", line 81, in main\n",
      "    dataset = get_dataset(args.data_path,\n",
      "  File \"/Users/anthonycuturrufo/opt/anaconda3/lib/python3.8/site-packages/dglke/dataloader/KGDataset.py\", line 649, in get_dataset\n",
      "    dataset = KGDatasetUDDRaw(data_path, data_name, delimiter, files, format, has_edge_importance)\n",
      "  File \"/Users/anthonycuturrufo/opt/anaconda3/lib/python3.8/site-packages/dglke/dataloader/KGDataset.py\", line 415, in __init__\n",
      "    assert os.path.exists(os.path.join(path, f)), \\\n",
      "AssertionError: File drkg_train.tsv not exist in ./notebooks/train\n"
     ]
    }
   ],
   "source": [
    "!DGLBACKEND=pytorch dglke_train --dataset WANGKG --data_path ./notebooks/train \\\n",
    "                               --data_files drkg_train.tsv drkg_valid.tsv drkg_test.tsv \\\n",
    "                               --format 'raw_udd_hrt' --model_name TransE_l2 --batch_size 2048 \\\n",
    "                               --neg_sample_size 256 --hidden_dim 400 --gamma 12.0 --lr 0.1 \\\n",
    "                               --max_step 100000 --log_interval 1000 --batch_size_eval 16 -adv \\\n",
    "                               --regularization_coef 1.00E-07 --test --num_thread 1 \\\n",
    "                               --gpu 0 1 2 3 4 5 6 7 --num_proc 8 \\\n",
    "                               --neg_sample_size_eval 10000 --async_update"
   ]
  },
  {
   "cell_type": "code",
   "execution_count": null,
   "id": "killing-dakota",
   "metadata": {},
   "outputs": [],
   "source": []
  },
  {
   "cell_type": "code",
   "execution_count": null,
   "id": "divine-michigan",
   "metadata": {},
   "outputs": [],
   "source": []
  }
 ],
 "metadata": {
  "kernelspec": {
   "display_name": "Python 3",
   "language": "python",
   "name": "python3"
  },
  "language_info": {
   "codemirror_mode": {
    "name": "ipython",
    "version": 3
   },
   "file_extension": ".py",
   "mimetype": "text/x-python",
   "name": "python",
   "nbconvert_exporter": "python",
   "pygments_lexer": "ipython3",
   "version": "3.8.5"
  }
 },
 "nbformat": 4,
 "nbformat_minor": 5
}
